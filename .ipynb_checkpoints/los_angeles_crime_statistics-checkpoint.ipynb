{
 "cells": [
  {
   "cell_type": "code",
   "execution_count": 1,
   "metadata": {
    "slideshow": {
     "slide_type": "-"
    }
   },
   "outputs": [],
   "source": [
    "import pandas as pd\n",
    "from sodapy import Socrata\n",
    "from uszipcode import SearchEngine # note this does an approximation of zipcode based upon a radius\n",
    "from datetime import datetime\n",
    "from datetime import timedelta\n",
    "import matplotlib.pyplot as plt\n",
    "\n",
    "# import pickle"
   ]
  },
  {
   "cell_type": "code",
   "execution_count": null,
   "metadata": {},
   "outputs": [],
   "source": [
    "pd.options.display.max_columns=20"
   ]
  },
  {
   "cell_type": "code",
   "execution_count": null,
   "metadata": {
    "slideshow": {
     "slide_type": "-"
    }
   },
   "outputs": [
    {
     "name": "stderr",
     "output_type": "stream",
     "text": [
      "WARNING:root:Requests made without an app_token will be subject to strict throttling limits.\n"
     ]
    }
   ],
   "source": [
    "client = Socrata(\"data.lacity.org\", None)\n",
    "\n",
    "results = client.get(\"7fvc-faax\", limit=2000000)\n",
    "# results = client.get(\"7fvc-faax\", limit=200)\n",
    "\n",
    "# Convert to pandas DataFrame\n",
    "results_df = pd.DataFrame.from_records(results)"
   ]
  },
  {
   "cell_type": "code",
   "execution_count": null,
   "metadata": {},
   "outputs": [],
   "source": [
    "results_df.head()"
   ]
  },
  {
   "cell_type": "code",
   "execution_count": null,
   "metadata": {},
   "outputs": [],
   "source": [
    "# with open('results_df.pickle', 'wb') as f:\n",
    "#     # Pickle the 'data' dictionary using the highest protocol available.\n",
    "#     pickle.dump(results_df, f, pickle.HIGHEST_PROTOCOL)"
   ]
  },
  {
   "cell_type": "code",
   "execution_count": null,
   "metadata": {},
   "outputs": [],
   "source": [
    "# with open('results_df.pickle', 'rb') as f:\n",
    "#     # The protocol version used is detected automatically, so we do not\n",
    "#     # have to specify it.\n",
    "#     results_df = pickle.load(f)"
   ]
  },
  {
   "cell_type": "code",
   "execution_count": null,
   "metadata": {},
   "outputs": [],
   "source": [
    "list(results_df)"
   ]
  },
  {
   "cell_type": "code",
   "execution_count": null,
   "metadata": {},
   "outputs": [],
   "source": [
    "rows=len(results_df)\n",
    "search = SearchEngine(simple_zipcode=True)\n",
    "lon = []\n",
    "lat = []\n",
    "zipcode = []\n",
    "year_single = '2000'\n",
    "year = []\n",
    "for i in range(rows):\n",
    "    # single values for readability\n",
    "    lattitude = float(results_df['location_1'][i]['coordinates'][1])\n",
    "    longitude = float(results_df['location_1'][i]['coordinates'][0])\n",
    "    year_single = results_df['date_occ'][i][:4]\n",
    "    # append to arrays\n",
    "    lon.append(longitude)\n",
    "    lat.append(lattitude)\n",
    "    try:\n",
    "        zipcode.append(search.by_coordinates(lattitude, longitude, radius=5, returns=1)[0].zipcode)\n",
    "    except:\n",
    "        zipcode.append('00000')\n",
    "        print(f'{i},{lattitude},{longitude}')\n",
    "    year.append(year_single)\n",
    "results_df['lat'] = lat\n",
    "results_df['lon'] = lon\n",
    "results_df['zipcode'] = zipcode\n",
    "results_df['year'] = year"
   ]
  },
  {
   "cell_type": "code",
   "execution_count": null,
   "metadata": {},
   "outputs": [],
   "source": [
    "len(results_df)"
   ]
  },
  {
   "cell_type": "code",
   "execution_count": null,
   "metadata": {},
   "outputs": [],
   "source": [
    "# remove lines with no corresponding zip code\n",
    "results_df = results_df[results_df.zipcode != '00000']\n",
    "len(results_df)"
   ]
  },
  {
   "cell_type": "code",
   "execution_count": null,
   "metadata": {},
   "outputs": [],
   "source": [
    "# drop irrelevant columns\n",
    "results_df.drop(columns=[':@computed_region_2dna_qi2s',\n",
    " ':@computed_region_k96s_3jcv',\n",
    " ':@computed_region_kqwf_mjcx',\n",
    " ':@computed_region_qz3q_ghft',\n",
    " ':@computed_region_tatf_ua23',\n",
    " ':@computed_region_ur2y_g4cx',\n",
    " 'crm_cd_1',\n",
    " 'crm_cd_2',\n",
    " 'crm_cd_3',\n",
    " 'cross_street'], inplace=True)"
   ]
  },
  {
   "cell_type": "code",
   "execution_count": null,
   "metadata": {
    "scrolled": true
   },
   "outputs": [],
   "source": [
    "results_df.head()"
   ]
  },
  {
   "cell_type": "code",
   "execution_count": null,
   "metadata": {},
   "outputs": [],
   "source": [
    "file_name='los_angeles_crime_statistics.csv'\n",
    "results_df.to_csv(file_name, encoding='utf-8')"
   ]
  },
  {
   "cell_type": "code",
   "execution_count": null,
   "metadata": {},
   "outputs": [],
   "source": [
    "# dates"
   ]
  },
  {
   "cell_type": "code",
   "execution_count": null,
   "metadata": {},
   "outputs": [],
   "source": [
    "# construct a basic timedelta and print it\n",
    "print (timedelta(days=365, hours=0, minutes=0))\n",
    "# print today's date\n",
    "print (\"today is: \" + str(datetime.now()))\n",
    "# print today's date one year from now\n",
    "print (\"one year from now it will be:\" + str(datetime.now() - timedelta(days=365)))\n"
   ]
  },
  {
   "cell_type": "code",
   "execution_count": null,
   "metadata": {},
   "outputs": [],
   "source": [
    "now = datetime.now()\n",
    "print(now)\n",
    "print(timedelta(days=365))\n",
    "# 1year = datetime.now() - timedelta(days=365)\n",
    "# 1year\n",
    "print(type(now))"
   ]
  },
  {
   "cell_type": "code",
   "execution_count": null,
   "metadata": {},
   "outputs": [],
   "source": [
    "df_0 = results_df"
   ]
  },
  {
   "cell_type": "code",
   "execution_count": null,
   "metadata": {},
   "outputs": [],
   "source": [
    "# group by zipcode /crm_cd ; count number of crimes (dr_no) \n",
    "aggregation = { \n",
    "     'dr_no': 'nunique' \n",
    "}\n",
    "df_1 = results_df.groupby(['zipcode','crm_cd']).agg(aggregation)\n",
    "df_1"
   ]
  },
  {
   "cell_type": "code",
   "execution_count": null,
   "metadata": {},
   "outputs": [],
   "source": [
    "df_1.plot(kind=\"line\", figsize=(20,3))"
   ]
  },
  {
   "cell_type": "code",
   "execution_count": null,
   "metadata": {},
   "outputs": [],
   "source": [
    "# group by year / zipcode ; count number of crimes (dr_no)\n",
    "aggregation = { \n",
    "     'dr_no': 'nunique' \n",
    "}\n",
    "df_2 = results_df.groupby(['year','zipcode']).agg(aggregation)\n",
    "df_2"
   ]
  },
  {
   "cell_type": "code",
   "execution_count": null,
   "metadata": {},
   "outputs": [],
   "source": [
    "fig = plt.figure()\n",
    "ax = plt.axes()\n",
    "\n",
    "x = np.linspace(0, 10, 1000)\n",
    "ax.plot(x, np.sin(x));"
   ]
  },
  {
   "cell_type": "code",
   "execution_count": null,
   "metadata": {},
   "outputs": [],
   "source": [
    "# group by year / zipcode ; count number of crimes (dr_no)\n",
    "df_4 = results_df.sort_values(by=['zipcode'])\n",
    "aggregation = { \n",
    "     'dr_no': 'count' \n",
    "}\n",
    "df_3 = df_4.groupby(['zipcode']).agg(aggregation)\n",
    "df_3 = df_3.sort_values(by=['dr_no'], ascending=False)\n",
    "df_3 = df_3[:10]\n",
    "df_3.reset_index(level=0, inplace=True)\n",
    "df_3"
   ]
  },
  {
   "cell_type": "code",
   "execution_count": null,
   "metadata": {},
   "outputs": [],
   "source": [
    "df_5 = df_3['zipcode']\n",
    "df_5"
   ]
  },
  {
   "cell_type": "code",
   "execution_count": null,
   "metadata": {},
   "outputs": [],
   "source": [
    "# rolling year"
   ]
  },
  {
   "cell_type": "code",
   "execution_count": null,
   "metadata": {},
   "outputs": [],
   "source": []
  },
  {
   "cell_type": "code",
   "execution_count": null,
   "metadata": {},
   "outputs": [],
   "source": [
    "# 5 years"
   ]
  },
  {
   "cell_type": "code",
   "execution_count": null,
   "metadata": {},
   "outputs": [],
   "source": [
    "df_3 = df_3.sort_values(by='zipcode')\n",
    "top_zipcodes = df_3.zipcode.unique()\n",
    "top_zipcodes"
   ]
  },
  {
   "cell_type": "code",
   "execution_count": null,
   "metadata": {},
   "outputs": [],
   "source": [
    "aggregation = { \n",
    "     'dr_no': 'nunique' \n",
    "}\n",
    "zip_90012 = pd.DataFrame(df_0[df_0.zipcode == '90012'].groupby(['zipcode']).agg(aggregation))\n",
    "\n",
    "# df_6.reset_index(level=0, inplace=True)\n",
    "zip_90012"
   ]
  },
  {
   "cell_type": "code",
   "execution_count": null,
   "metadata": {},
   "outputs": [],
   "source": [
    "plot('xlabel', 'ylabel', data=df_2)\n",
    "plt.xlabel('Total Number of Rides (Per City)', fontdict=None, labelpad=None)\n",
    "plt.ylabel('Average Fare ($)', fontdict=None, labelpad=None)\n",
    "plt.title('Pyber Ride Sharing Data (2016)', fontdict=None, loc='center', pad=None)\n",
    "plt.grid(b=None, which='major', axis='both')"
   ]
  },
  {
   "cell_type": "code",
   "execution_count": null,
   "metadata": {},
   "outputs": [],
   "source": [
    "# income"
   ]
  },
  {
   "cell_type": "code",
   "execution_count": null,
   "metadata": {},
   "outputs": [],
   "source": []
  },
  {
   "cell_type": "code",
   "execution_count": null,
   "metadata": {},
   "outputs": [],
   "source": [
    "# home value"
   ]
  },
  {
   "cell_type": "code",
   "execution_count": null,
   "metadata": {},
   "outputs": [],
   "source": []
  },
  {
   "cell_type": "code",
   "execution_count": null,
   "metadata": {},
   "outputs": [],
   "source": []
  },
  {
   "cell_type": "code",
   "execution_count": null,
   "metadata": {},
   "outputs": [],
   "source": [
    "result"
   ]
  }
 ],
 "metadata": {
  "kernelspec": {
   "display_name": "Python 3",
   "language": "python",
   "name": "python3"
  },
  "language_info": {
   "codemirror_mode": {
    "name": "ipython",
    "version": 3
   },
   "file_extension": ".py",
   "mimetype": "text/x-python",
   "name": "python",
   "nbconvert_exporter": "python",
   "pygments_lexer": "ipython3",
   "version": "3.7.1"
  }
 },
 "nbformat": 4,
 "nbformat_minor": 2
}
