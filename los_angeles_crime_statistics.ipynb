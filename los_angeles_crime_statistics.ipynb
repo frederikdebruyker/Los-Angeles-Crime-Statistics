{
 "cells": [
  {
   "cell_type": "code",
   "execution_count": 120,
   "metadata": {
    "slideshow": {
     "slide_type": "-"
    }
   },
   "outputs": [],
   "source": [
    "import pandas as pd\n",
    "from sodapy import Socrata\n",
    "from uszipcode import SearchEngine # note this does an approximation of zipcode based upon a radius\n",
    "from datetime import datetime\n",
    "from datetime import timedelta\n",
    "\n",
    "import pickle"
   ]
  },
  {
   "cell_type": "code",
   "execution_count": 101,
   "metadata": {},
   "outputs": [],
   "source": [
    "pd.options.display.max_columns=100"
   ]
  },
  {
   "cell_type": "code",
   "execution_count": 102,
   "metadata": {
    "slideshow": {
     "slide_type": "-"
    }
   },
   "outputs": [
    {
     "name": "stderr",
     "output_type": "stream",
     "text": [
      "WARNING:root:Requests made without an app_token will be subject to strict throttling limits.\n"
     ]
    }
   ],
   "source": [
    "client = Socrata(\"data.lacity.org\", None)\n",
    "\n",
    "# results = client.get(\"7fvc-faax\", limit=2000000)\n",
    "results = client.get(\"7fvc-faax\", limit=200)\n",
    "\n",
    "# Convert to pandas DataFrame\n",
    "results_df = pd.DataFrame.from_records(results)"
   ]
  },
  {
   "cell_type": "code",
   "execution_count": 103,
   "metadata": {},
   "outputs": [],
   "source": [
    "# results_df.head()"
   ]
  },
  {
   "cell_type": "code",
   "execution_count": 104,
   "metadata": {},
   "outputs": [],
   "source": [
    "# with open('results_df.pickle', 'wb') as f:\n",
    "#     # Pickle the 'data' dictionary using the highest protocol available.\n",
    "#     pickle.dump(results_df, f, pickle.HIGHEST_PROTOCOL)"
   ]
  },
  {
   "cell_type": "code",
   "execution_count": 105,
   "metadata": {},
   "outputs": [],
   "source": [
    "# with open('results_df.pickle', 'rb') as f:\n",
    "#     # The protocol version used is detected automatically, so we do not\n",
    "#     # have to specify it.\n",
    "#     results_df = pickle.load(f)"
   ]
  },
  {
   "cell_type": "code",
   "execution_count": 106,
   "metadata": {},
   "outputs": [
    {
     "data": {
      "text/plain": [
       "[':@computed_region_2dna_qi2s',\n",
       " ':@computed_region_k96s_3jcv',\n",
       " ':@computed_region_kqwf_mjcx',\n",
       " ':@computed_region_qz3q_ghft',\n",
       " ':@computed_region_tatf_ua23',\n",
       " ':@computed_region_ur2y_g4cx',\n",
       " 'area_id',\n",
       " 'area_name',\n",
       " 'crm_cd',\n",
       " 'crm_cd_1',\n",
       " 'crm_cd_2',\n",
       " 'crm_cd_3',\n",
       " 'crm_cd_desc',\n",
       " 'cross_street',\n",
       " 'date_occ',\n",
       " 'date_rptd',\n",
       " 'dr_no',\n",
       " 'location',\n",
       " 'location_1',\n",
       " 'mocodes',\n",
       " 'premis_cd',\n",
       " 'premis_desc',\n",
       " 'rpt_dist_no',\n",
       " 'status',\n",
       " 'status_desc',\n",
       " 'time_occ',\n",
       " 'vict_age',\n",
       " 'vict_descent',\n",
       " 'vict_sex',\n",
       " 'weapon_desc',\n",
       " 'weapon_used_cd']"
      ]
     },
     "execution_count": 106,
     "metadata": {},
     "output_type": "execute_result"
    }
   ],
   "source": [
    "list(results_df)"
   ]
  },
  {
   "cell_type": "code",
   "execution_count": 113,
   "metadata": {},
   "outputs": [],
   "source": [
    "rows=len(results_df)\n",
    "search = SearchEngine(simple_zipcode=True)\n",
    "lon = []\n",
    "lat = []\n",
    "zipcode = []\n",
    "for i in range(rows):\n",
    "    lattitude = float(results_df['location_1'][i]['coordinates'][1])\n",
    "    longitude = float(results_df['location_1'][i]['coordinates'][0])\n",
    "    lon.append(longitude)\n",
    "    lat.append(lattitude)\n",
    "    zipcode.append(search.by_coordinates(lattitude, longitude, radius=2, returns=1)[0].zipcode)\n",
    "results_df['lat'] = lat\n",
    "results_df['lon'] = lon\n",
    "results_df['zipcode'] = zipcode"
   ]
  },
  {
   "cell_type": "code",
   "execution_count": 111,
   "metadata": {},
   "outputs": [
    {
     "data": {
      "text/html": [
       "<div>\n",
       "<style scoped>\n",
       "    .dataframe tbody tr th:only-of-type {\n",
       "        vertical-align: middle;\n",
       "    }\n",
       "\n",
       "    .dataframe tbody tr th {\n",
       "        vertical-align: top;\n",
       "    }\n",
       "\n",
       "    .dataframe thead th {\n",
       "        text-align: right;\n",
       "    }\n",
       "</style>\n",
       "<table border=\"1\" class=\"dataframe\">\n",
       "  <thead>\n",
       "    <tr style=\"text-align: right;\">\n",
       "      <th></th>\n",
       "      <th>:@computed_region_2dna_qi2s</th>\n",
       "      <th>:@computed_region_k96s_3jcv</th>\n",
       "      <th>:@computed_region_kqwf_mjcx</th>\n",
       "      <th>:@computed_region_qz3q_ghft</th>\n",
       "      <th>:@computed_region_tatf_ua23</th>\n",
       "      <th>:@computed_region_ur2y_g4cx</th>\n",
       "      <th>area_id</th>\n",
       "      <th>area_name</th>\n",
       "      <th>crm_cd</th>\n",
       "      <th>crm_cd_1</th>\n",
       "      <th>crm_cd_2</th>\n",
       "      <th>crm_cd_3</th>\n",
       "      <th>crm_cd_desc</th>\n",
       "      <th>cross_street</th>\n",
       "      <th>date_occ</th>\n",
       "      <th>date_rptd</th>\n",
       "      <th>dr_no</th>\n",
       "      <th>location</th>\n",
       "      <th>location_1</th>\n",
       "      <th>mocodes</th>\n",
       "      <th>premis_cd</th>\n",
       "      <th>premis_desc</th>\n",
       "      <th>rpt_dist_no</th>\n",
       "      <th>status</th>\n",
       "      <th>status_desc</th>\n",
       "      <th>time_occ</th>\n",
       "      <th>vict_age</th>\n",
       "      <th>vict_descent</th>\n",
       "      <th>vict_sex</th>\n",
       "      <th>weapon_desc</th>\n",
       "      <th>weapon_used_cd</th>\n",
       "      <th>lat</th>\n",
       "      <th>lon</th>\n",
       "      <th>zipcode</th>\n",
       "    </tr>\n",
       "  </thead>\n",
       "  <tbody>\n",
       "    <tr>\n",
       "      <th>0</th>\n",
       "      <td>76</td>\n",
       "      <td>703</td>\n",
       "      <td>9</td>\n",
       "      <td>23075</td>\n",
       "      <td>1319</td>\n",
       "      <td>NaN</td>\n",
       "      <td>01</td>\n",
       "      <td>Central</td>\n",
       "      <td>310</td>\n",
       "      <td>310</td>\n",
       "      <td>NaN</td>\n",
       "      <td>NaN</td>\n",
       "      <td>BURGLARY</td>\n",
       "      <td>NaN</td>\n",
       "      <td>2010-08-06T00:00:00.000</td>\n",
       "      <td>2010-08-07T00:00:00.000</td>\n",
       "      <td>100101320</td>\n",
       "      <td>300 E  8TH                          ST</td>\n",
       "      <td>{'type': 'Point', 'coordinates': [-118.2517, 3...</td>\n",
       "      <td>0324</td>\n",
       "      <td>203</td>\n",
       "      <td>OTHER BUSINESS</td>\n",
       "      <td>0176</td>\n",
       "      <td>IC</td>\n",
       "      <td>Invest Cont</td>\n",
       "      <td>1730</td>\n",
       "      <td>25</td>\n",
       "      <td>H</td>\n",
       "      <td>F</td>\n",
       "      <td>NaN</td>\n",
       "      <td>NaN</td>\n",
       "      <td>34.0413</td>\n",
       "      <td>-118.2517</td>\n",
       "      <td>90014</td>\n",
       "    </tr>\n",
       "    <tr>\n",
       "      <th>1</th>\n",
       "      <td>76</td>\n",
       "      <td>542</td>\n",
       "      <td>9</td>\n",
       "      <td>23074</td>\n",
       "      <td>1502</td>\n",
       "      <td>NaN</td>\n",
       "      <td>01</td>\n",
       "      <td>Central</td>\n",
       "      <td>210</td>\n",
       "      <td>210</td>\n",
       "      <td>NaN</td>\n",
       "      <td>NaN</td>\n",
       "      <td>ROBBERY</td>\n",
       "      <td>LOS ANGELES</td>\n",
       "      <td>2010-11-25T00:00:00.000</td>\n",
       "      <td>2010-11-26T00:00:00.000</td>\n",
       "      <td>100101643</td>\n",
       "      <td>5TH</td>\n",
       "      <td>{'type': 'Point', 'coordinates': [-118.2476, 3...</td>\n",
       "      <td>0411</td>\n",
       "      <td>102</td>\n",
       "      <td>SIDEWALK</td>\n",
       "      <td>0145</td>\n",
       "      <td>IC</td>\n",
       "      <td>Invest Cont</td>\n",
       "      <td>2100</td>\n",
       "      <td>51</td>\n",
       "      <td>H</td>\n",
       "      <td>M</td>\n",
       "      <td>OTHER KNIFE</td>\n",
       "      <td>207</td>\n",
       "      <td>34.0461</td>\n",
       "      <td>-118.2476</td>\n",
       "      <td>90014</td>\n",
       "    </tr>\n",
       "    <tr>\n",
       "      <th>2</th>\n",
       "      <td>76</td>\n",
       "      <td>542</td>\n",
       "      <td>9</td>\n",
       "      <td>23074</td>\n",
       "      <td>1502</td>\n",
       "      <td>NaN</td>\n",
       "      <td>01</td>\n",
       "      <td>Central</td>\n",
       "      <td>946</td>\n",
       "      <td>946</td>\n",
       "      <td>NaN</td>\n",
       "      <td>NaN</td>\n",
       "      <td>OTHER MISCELLANEOUS CRIME</td>\n",
       "      <td>NaN</td>\n",
       "      <td>2010-01-27T00:00:00.000</td>\n",
       "      <td>2010-01-29T00:00:00.000</td>\n",
       "      <td>100105528</td>\n",
       "      <td>100 E  5TH                          ST</td>\n",
       "      <td>{'type': 'Point', 'coordinates': [-118.2485, 3...</td>\n",
       "      <td>NaN</td>\n",
       "      <td>101</td>\n",
       "      <td>STREET</td>\n",
       "      <td>0154</td>\n",
       "      <td>IC</td>\n",
       "      <td>Invest Cont</td>\n",
       "      <td>1430</td>\n",
       "      <td>43</td>\n",
       "      <td>W</td>\n",
       "      <td>M</td>\n",
       "      <td>NaN</td>\n",
       "      <td>NaN</td>\n",
       "      <td>34.0467</td>\n",
       "      <td>-118.2485</td>\n",
       "      <td>90014</td>\n",
       "    </tr>\n",
       "    <tr>\n",
       "      <th>3</th>\n",
       "      <td>26</td>\n",
       "      <td>626</td>\n",
       "      <td>7</td>\n",
       "      <td>23667</td>\n",
       "      <td>1086</td>\n",
       "      <td>NaN</td>\n",
       "      <td>07</td>\n",
       "      <td>Wilshire</td>\n",
       "      <td>930</td>\n",
       "      <td>930</td>\n",
       "      <td>NaN</td>\n",
       "      <td>NaN</td>\n",
       "      <td>CRIMINAL THREATS - NO WEAPON DISPLAYED</td>\n",
       "      <td>NaN</td>\n",
       "      <td>2010-03-12T00:00:00.000</td>\n",
       "      <td>2010-03-12T00:00:00.000</td>\n",
       "      <td>100700660</td>\n",
       "      <td>7600    BEVERLY                      BL</td>\n",
       "      <td>{'type': 'Point', 'coordinates': [-118.3555, 3...</td>\n",
       "      <td>0421</td>\n",
       "      <td>109</td>\n",
       "      <td>PARK/PLAYGROUND</td>\n",
       "      <td>0724</td>\n",
       "      <td>AA</td>\n",
       "      <td>Adult Arrest</td>\n",
       "      <td>1050</td>\n",
       "      <td>41</td>\n",
       "      <td>B</td>\n",
       "      <td>M</td>\n",
       "      <td>VERBAL THREAT</td>\n",
       "      <td>511</td>\n",
       "      <td>34.0761</td>\n",
       "      <td>-118.3555</td>\n",
       "      <td>90036</td>\n",
       "    </tr>\n",
       "    <tr>\n",
       "      <th>4</th>\n",
       "      <td>26</td>\n",
       "      <td>635</td>\n",
       "      <td>7</td>\n",
       "      <td>23667</td>\n",
       "      <td>332</td>\n",
       "      <td>NaN</td>\n",
       "      <td>07</td>\n",
       "      <td>Wilshire</td>\n",
       "      <td>626</td>\n",
       "      <td>626</td>\n",
       "      <td>NaN</td>\n",
       "      <td>NaN</td>\n",
       "      <td>INTIMATE PARTNER - SIMPLE ASSAULT</td>\n",
       "      <td>NaN</td>\n",
       "      <td>2010-03-13T00:00:00.000</td>\n",
       "      <td>2010-03-13T00:00:00.000</td>\n",
       "      <td>100700661</td>\n",
       "      <td>600 S  DETROIT                      ST</td>\n",
       "      <td>{'type': 'Point', 'coordinates': [-118.3451, 3...</td>\n",
       "      <td>0400 2000</td>\n",
       "      <td>502</td>\n",
       "      <td>MULTI-UNIT DWELLING (APARTMENT, DUPLEX, ETC)</td>\n",
       "      <td>0735</td>\n",
       "      <td>AA</td>\n",
       "      <td>Adult Arrest</td>\n",
       "      <td>0600</td>\n",
       "      <td>27</td>\n",
       "      <td>O</td>\n",
       "      <td>F</td>\n",
       "      <td>STRONG-ARM (HANDS, FIST, FEET OR BODILY FORCE)</td>\n",
       "      <td>400</td>\n",
       "      <td>34.0649</td>\n",
       "      <td>-118.3451</td>\n",
       "      <td>90036</td>\n",
       "    </tr>\n",
       "  </tbody>\n",
       "</table>\n",
       "</div>"
      ],
      "text/plain": [
       "  :@computed_region_2dna_qi2s :@computed_region_k96s_3jcv  \\\n",
       "0                          76                         703   \n",
       "1                          76                         542   \n",
       "2                          76                         542   \n",
       "3                          26                         626   \n",
       "4                          26                         635   \n",
       "\n",
       "  :@computed_region_kqwf_mjcx :@computed_region_qz3q_ghft  \\\n",
       "0                           9                       23075   \n",
       "1                           9                       23074   \n",
       "2                           9                       23074   \n",
       "3                           7                       23667   \n",
       "4                           7                       23667   \n",
       "\n",
       "  :@computed_region_tatf_ua23 :@computed_region_ur2y_g4cx area_id area_name  \\\n",
       "0                        1319                         NaN      01   Central   \n",
       "1                        1502                         NaN      01   Central   \n",
       "2                        1502                         NaN      01   Central   \n",
       "3                        1086                         NaN      07  Wilshire   \n",
       "4                         332                         NaN      07  Wilshire   \n",
       "\n",
       "  crm_cd crm_cd_1 crm_cd_2 crm_cd_3                             crm_cd_desc  \\\n",
       "0    310      310      NaN      NaN                                BURGLARY   \n",
       "1    210      210      NaN      NaN                                 ROBBERY   \n",
       "2    946      946      NaN      NaN               OTHER MISCELLANEOUS CRIME   \n",
       "3    930      930      NaN      NaN  CRIMINAL THREATS - NO WEAPON DISPLAYED   \n",
       "4    626      626      NaN      NaN       INTIMATE PARTNER - SIMPLE ASSAULT   \n",
       "\n",
       "  cross_street                 date_occ                date_rptd      dr_no  \\\n",
       "0          NaN  2010-08-06T00:00:00.000  2010-08-07T00:00:00.000  100101320   \n",
       "1  LOS ANGELES  2010-11-25T00:00:00.000  2010-11-26T00:00:00.000  100101643   \n",
       "2          NaN  2010-01-27T00:00:00.000  2010-01-29T00:00:00.000  100105528   \n",
       "3          NaN  2010-03-12T00:00:00.000  2010-03-12T00:00:00.000  100700660   \n",
       "4          NaN  2010-03-13T00:00:00.000  2010-03-13T00:00:00.000  100700661   \n",
       "\n",
       "                                  location  \\\n",
       "0   300 E  8TH                          ST   \n",
       "1                                      5TH   \n",
       "2   100 E  5TH                          ST   \n",
       "3  7600    BEVERLY                      BL   \n",
       "4   600 S  DETROIT                      ST   \n",
       "\n",
       "                                          location_1    mocodes premis_cd  \\\n",
       "0  {'type': 'Point', 'coordinates': [-118.2517, 3...       0324       203   \n",
       "1  {'type': 'Point', 'coordinates': [-118.2476, 3...       0411       102   \n",
       "2  {'type': 'Point', 'coordinates': [-118.2485, 3...        NaN       101   \n",
       "3  {'type': 'Point', 'coordinates': [-118.3555, 3...       0421       109   \n",
       "4  {'type': 'Point', 'coordinates': [-118.3451, 3...  0400 2000       502   \n",
       "\n",
       "                                    premis_desc rpt_dist_no status  \\\n",
       "0                                OTHER BUSINESS        0176     IC   \n",
       "1                                      SIDEWALK        0145     IC   \n",
       "2                                        STREET        0154     IC   \n",
       "3                               PARK/PLAYGROUND        0724     AA   \n",
       "4  MULTI-UNIT DWELLING (APARTMENT, DUPLEX, ETC)        0735     AA   \n",
       "\n",
       "    status_desc time_occ vict_age vict_descent vict_sex  \\\n",
       "0   Invest Cont     1730       25            H        F   \n",
       "1   Invest Cont     2100       51            H        M   \n",
       "2   Invest Cont     1430       43            W        M   \n",
       "3  Adult Arrest     1050       41            B        M   \n",
       "4  Adult Arrest     0600       27            O        F   \n",
       "\n",
       "                                      weapon_desc weapon_used_cd      lat  \\\n",
       "0                                             NaN            NaN  34.0413   \n",
       "1                                     OTHER KNIFE            207  34.0461   \n",
       "2                                             NaN            NaN  34.0467   \n",
       "3                                   VERBAL THREAT            511  34.0761   \n",
       "4  STRONG-ARM (HANDS, FIST, FEET OR BODILY FORCE)            400  34.0649   \n",
       "\n",
       "        lon zipcode  \n",
       "0 -118.2517   90014  \n",
       "1 -118.2476   90014  \n",
       "2 -118.2485   90014  \n",
       "3 -118.3555   90036  \n",
       "4 -118.3451   90036  "
      ]
     },
     "execution_count": 111,
     "metadata": {},
     "output_type": "execute_result"
    }
   ],
   "source": [
    "results_df.head()"
   ]
  },
  {
   "cell_type": "code",
   "execution_count": null,
   "metadata": {},
   "outputs": [],
   "source": [
    "# dates"
   ]
  },
  {
   "cell_type": "code",
   "execution_count": 126,
   "metadata": {},
   "outputs": [
    {
     "name": "stdout",
     "output_type": "stream",
     "text": [
      "365 days, 0:00:00\n",
      "today is: 2019-03-22 09:19:08.666731\n",
      "one year from now it will be:2018-03-22 09:19:08.666731\n"
     ]
    }
   ],
   "source": [
    "#\n",
    "# Example file for working with timedelta objects\n",
    "#\n",
    "# from datetime import date\n",
    "# from datetime import time\n",
    "# from datetime import datetime\n",
    "# from datetime import timedelta\n",
    "\n",
    "# construct a basic timedelta and print it\n",
    "print (timedelta(days=365, hours=0, minutes=0))\n",
    "# print today's date\n",
    "print (\"today is: \" + str(datetime.now()))\n",
    "# print today's date one year from now\n",
    "print (\"one year from now it will be:\" + str(datetime.now() - timedelta(days=365)))\n"
   ]
  },
  {
   "cell_type": "code",
   "execution_count": 134,
   "metadata": {},
   "outputs": [
    {
     "name": "stdout",
     "output_type": "stream",
     "text": [
      "2019-03-22 09:29:22.186099\n",
      "365 days, 0:00:00\n",
      "<class 'datetime.datetime'>\n"
     ]
    }
   ],
   "source": [
    "now = datetime.now()\n",
    "print(now)\n",
    "print(timedelta(days=365))\n",
    "# 1year = datetime.now() - timedelta(days=365)\n",
    "# 1year\n",
    "print(type(now))"
   ]
  },
  {
   "cell_type": "code",
   "execution_count": null,
   "metadata": {},
   "outputs": [],
   "source": [
    "# rolling year"
   ]
  },
  {
   "cell_type": "code",
   "execution_count": null,
   "metadata": {},
   "outputs": [],
   "source": []
  },
  {
   "cell_type": "code",
   "execution_count": null,
   "metadata": {},
   "outputs": [],
   "source": [
    "# 5 years"
   ]
  },
  {
   "cell_type": "code",
   "execution_count": null,
   "metadata": {},
   "outputs": [],
   "source": []
  },
  {
   "cell_type": "code",
   "execution_count": null,
   "metadata": {},
   "outputs": [],
   "source": [
    "# income"
   ]
  },
  {
   "cell_type": "code",
   "execution_count": null,
   "metadata": {},
   "outputs": [],
   "source": []
  },
  {
   "cell_type": "code",
   "execution_count": null,
   "metadata": {},
   "outputs": [],
   "source": [
    "# home value"
   ]
  },
  {
   "cell_type": "code",
   "execution_count": null,
   "metadata": {},
   "outputs": [],
   "source": []
  },
  {
   "cell_type": "code",
   "execution_count": null,
   "metadata": {},
   "outputs": [],
   "source": []
  },
  {
   "cell_type": "code",
   "execution_count": 19,
   "metadata": {},
   "outputs": [
    {
     "data": {
      "text/plain": [
       "SimpleZipcode(zipcode='90079', zipcode_type='Standard', major_city='Los Angeles', post_office_city='Los Angeles, CA', common_city_list=['Los Angeles'], county='Los Angeles County', state='CA', lat=34.053, lng=-118.245, timezone='Pacific', radius_in_miles=0.11363636363636363, area_code_list=['213', '323', '424', '626', '747', '818'], population=0, population_density=None, land_area_in_sqmi=0.0, water_area_in_sqmi=0.0, housing_units=0, occupied_housing_units=0, median_home_value=None, median_household_income=None, bounds_west=-118.256716, bounds_east=-118.254093, bounds_north=34.041599, bounds_south=34.039571)"
      ]
     },
     "execution_count": 19,
     "metadata": {},
     "output_type": "execute_result"
    }
   ],
   "source": [
    "result"
   ]
  }
 ],
 "metadata": {
  "kernelspec": {
   "display_name": "Python 3",
   "language": "python",
   "name": "python3"
  },
  "language_info": {
   "codemirror_mode": {
    "name": "ipython",
    "version": 3
   },
   "file_extension": ".py",
   "mimetype": "text/x-python",
   "name": "python",
   "nbconvert_exporter": "python",
   "pygments_lexer": "ipython3",
   "version": "3.7.1"
  }
 },
 "nbformat": 4,
 "nbformat_minor": 2
}
