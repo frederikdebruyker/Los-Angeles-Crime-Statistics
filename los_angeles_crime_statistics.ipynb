{
 "cells": [
  {
   "cell_type": "code",
   "execution_count": 8,
   "metadata": {
    "slideshow": {
     "slide_type": "-"
    }
   },
   "outputs": [],
   "source": [
    "import pandas as pd\n",
    "from sodapy import Socrata\n",
    "from uszipcode import SearchEngine\n",
    "import pickle"
   ]
  },
  {
   "cell_type": "code",
   "execution_count": 9,
   "metadata": {},
   "outputs": [],
   "source": [
    "pd.options.display.max_columns=100"
   ]
  },
  {
   "cell_type": "code",
   "execution_count": 10,
   "metadata": {
    "slideshow": {
     "slide_type": "-"
    }
   },
   "outputs": [
    {
     "name": "stderr",
     "output_type": "stream",
     "text": [
      "WARNING:root:Requests made without an app_token will be subject to strict throttling limits.\n"
     ]
    }
   ],
   "source": [
    "client = Socrata(\"data.lacity.org\", None)\n",
    "\n",
    "results = client.get(\"7fvc-faax\", limit=2000000)\n",
    "\n",
    "# Convert to pandas DataFrame\n",
    "results_df = pd.DataFrame.from_records(results)"
   ]
  },
  {
   "cell_type": "code",
   "execution_count": 11,
   "metadata": {},
   "outputs": [
    {
     "data": {
      "text/html": [
       "<div>\n",
       "<style scoped>\n",
       "    .dataframe tbody tr th:only-of-type {\n",
       "        vertical-align: middle;\n",
       "    }\n",
       "\n",
       "    .dataframe tbody tr th {\n",
       "        vertical-align: top;\n",
       "    }\n",
       "\n",
       "    .dataframe thead th {\n",
       "        text-align: right;\n",
       "    }\n",
       "</style>\n",
       "<table border=\"1\" class=\"dataframe\">\n",
       "  <thead>\n",
       "    <tr style=\"text-align: right;\">\n",
       "      <th></th>\n",
       "      <th>:@computed_region_2dna_qi2s</th>\n",
       "      <th>:@computed_region_k96s_3jcv</th>\n",
       "      <th>:@computed_region_kqwf_mjcx</th>\n",
       "      <th>:@computed_region_qz3q_ghft</th>\n",
       "      <th>:@computed_region_tatf_ua23</th>\n",
       "      <th>:@computed_region_ur2y_g4cx</th>\n",
       "      <th>area_id</th>\n",
       "      <th>area_name</th>\n",
       "      <th>crm_cd</th>\n",
       "      <th>crm_cd_1</th>\n",
       "      <th>crm_cd_2</th>\n",
       "      <th>crm_cd_3</th>\n",
       "      <th>crm_cd_4</th>\n",
       "      <th>crm_cd_desc</th>\n",
       "      <th>cross_street</th>\n",
       "      <th>date_occ</th>\n",
       "      <th>date_rptd</th>\n",
       "      <th>dr_no</th>\n",
       "      <th>location</th>\n",
       "      <th>location_1</th>\n",
       "      <th>mocodes</th>\n",
       "      <th>premis_cd</th>\n",
       "      <th>premis_desc</th>\n",
       "      <th>rpt_dist_no</th>\n",
       "      <th>status</th>\n",
       "      <th>status_desc</th>\n",
       "      <th>time_occ</th>\n",
       "      <th>vict_age</th>\n",
       "      <th>vict_descent</th>\n",
       "      <th>vict_sex</th>\n",
       "      <th>weapon_desc</th>\n",
       "      <th>weapon_used_cd</th>\n",
       "    </tr>\n",
       "  </thead>\n",
       "  <tbody>\n",
       "    <tr>\n",
       "      <th>0</th>\n",
       "      <td>26</td>\n",
       "      <td>626</td>\n",
       "      <td>7</td>\n",
       "      <td>23667</td>\n",
       "      <td>1086</td>\n",
       "      <td>NaN</td>\n",
       "      <td>07</td>\n",
       "      <td>Wilshire</td>\n",
       "      <td>930</td>\n",
       "      <td>930</td>\n",
       "      <td>NaN</td>\n",
       "      <td>NaN</td>\n",
       "      <td>NaN</td>\n",
       "      <td>CRIMINAL THREATS - NO WEAPON DISPLAYED</td>\n",
       "      <td>NaN</td>\n",
       "      <td>2010-03-12T00:00:00.000</td>\n",
       "      <td>2010-03-12T00:00:00.000</td>\n",
       "      <td>100700660</td>\n",
       "      <td>7600    BEVERLY                      BL</td>\n",
       "      <td>{'type': 'Point', 'coordinates': [-118.3555, 3...</td>\n",
       "      <td>0421</td>\n",
       "      <td>109</td>\n",
       "      <td>PARK/PLAYGROUND</td>\n",
       "      <td>0724</td>\n",
       "      <td>AA</td>\n",
       "      <td>Adult Arrest</td>\n",
       "      <td>1050</td>\n",
       "      <td>41</td>\n",
       "      <td>B</td>\n",
       "      <td>M</td>\n",
       "      <td>VERBAL THREAT</td>\n",
       "      <td>511</td>\n",
       "    </tr>\n",
       "    <tr>\n",
       "      <th>1</th>\n",
       "      <td>26</td>\n",
       "      <td>635</td>\n",
       "      <td>7</td>\n",
       "      <td>23667</td>\n",
       "      <td>332</td>\n",
       "      <td>NaN</td>\n",
       "      <td>07</td>\n",
       "      <td>Wilshire</td>\n",
       "      <td>626</td>\n",
       "      <td>626</td>\n",
       "      <td>NaN</td>\n",
       "      <td>NaN</td>\n",
       "      <td>NaN</td>\n",
       "      <td>INTIMATE PARTNER - SIMPLE ASSAULT</td>\n",
       "      <td>NaN</td>\n",
       "      <td>2010-03-13T00:00:00.000</td>\n",
       "      <td>2010-03-13T00:00:00.000</td>\n",
       "      <td>100700661</td>\n",
       "      <td>600 S  DETROIT                      ST</td>\n",
       "      <td>{'type': 'Point', 'coordinates': [-118.3451, 3...</td>\n",
       "      <td>0400 2000</td>\n",
       "      <td>502</td>\n",
       "      <td>MULTI-UNIT DWELLING (APARTMENT, DUPLEX, ETC)</td>\n",
       "      <td>0735</td>\n",
       "      <td>AA</td>\n",
       "      <td>Adult Arrest</td>\n",
       "      <td>0600</td>\n",
       "      <td>27</td>\n",
       "      <td>O</td>\n",
       "      <td>F</td>\n",
       "      <td>STRONG-ARM (HANDS, FIST, FEET OR BODILY FORCE)</td>\n",
       "      <td>400</td>\n",
       "    </tr>\n",
       "    <tr>\n",
       "      <th>2</th>\n",
       "      <td>26</td>\n",
       "      <td>633</td>\n",
       "      <td>6</td>\n",
       "      <td>23679</td>\n",
       "      <td>809</td>\n",
       "      <td>NaN</td>\n",
       "      <td>07</td>\n",
       "      <td>Wilshire</td>\n",
       "      <td>930</td>\n",
       "      <td>930</td>\n",
       "      <td>998</td>\n",
       "      <td>NaN</td>\n",
       "      <td>NaN</td>\n",
       "      <td>CRIMINAL THREATS - NO WEAPON DISPLAYED</td>\n",
       "      <td>3RD                          ST</td>\n",
       "      <td>2010-03-23T00:00:00.000</td>\n",
       "      <td>2010-03-24T00:00:00.000</td>\n",
       "      <td>100700688</td>\n",
       "      <td>LA CIENEGA                   BL</td>\n",
       "      <td>{'type': 'Point', 'coordinates': [-118.3765, 3...</td>\n",
       "      <td>0400 0416 0421 1402</td>\n",
       "      <td>108</td>\n",
       "      <td>PARKING LOT</td>\n",
       "      <td>0721</td>\n",
       "      <td>AA</td>\n",
       "      <td>Adult Arrest</td>\n",
       "      <td>2350</td>\n",
       "      <td>20</td>\n",
       "      <td>H</td>\n",
       "      <td>F</td>\n",
       "      <td>VERBAL THREAT</td>\n",
       "      <td>511</td>\n",
       "    </tr>\n",
       "    <tr>\n",
       "      <th>3</th>\n",
       "      <td>52</td>\n",
       "      <td>612</td>\n",
       "      <td>12</td>\n",
       "      <td>23080</td>\n",
       "      <td>1229</td>\n",
       "      <td>NaN</td>\n",
       "      <td>07</td>\n",
       "      <td>Wilshire</td>\n",
       "      <td>626</td>\n",
       "      <td>626</td>\n",
       "      <td>NaN</td>\n",
       "      <td>NaN</td>\n",
       "      <td>NaN</td>\n",
       "      <td>INTIMATE PARTNER - SIMPLE ASSAULT</td>\n",
       "      <td>NaN</td>\n",
       "      <td>2010-03-23T00:00:00.000</td>\n",
       "      <td>2010-03-24T00:00:00.000</td>\n",
       "      <td>100700689</td>\n",
       "      <td>1100    NORTON                       AV</td>\n",
       "      <td>{'type': 'Point', 'coordinates': [-118.3219, 3...</td>\n",
       "      <td>0400 0416 2000</td>\n",
       "      <td>502</td>\n",
       "      <td>MULTI-UNIT DWELLING (APARTMENT, DUPLEX, ETC)</td>\n",
       "      <td>0759</td>\n",
       "      <td>AA</td>\n",
       "      <td>Adult Arrest</td>\n",
       "      <td>2330</td>\n",
       "      <td>35</td>\n",
       "      <td>O</td>\n",
       "      <td>M</td>\n",
       "      <td>UNKNOWN WEAPON/OTHER WEAPON</td>\n",
       "      <td>500</td>\n",
       "    </tr>\n",
       "    <tr>\n",
       "      <th>4</th>\n",
       "      <td>69</td>\n",
       "      <td>651</td>\n",
       "      <td>12</td>\n",
       "      <td>23080</td>\n",
       "      <td>1105</td>\n",
       "      <td>NaN</td>\n",
       "      <td>07</td>\n",
       "      <td>Wilshire</td>\n",
       "      <td>236</td>\n",
       "      <td>236</td>\n",
       "      <td>NaN</td>\n",
       "      <td>NaN</td>\n",
       "      <td>NaN</td>\n",
       "      <td>INTIMATE PARTNER - AGGRAVATED ASSAULT</td>\n",
       "      <td>NaN</td>\n",
       "      <td>2010-04-05T00:00:00.000</td>\n",
       "      <td>2010-04-05T00:00:00.000</td>\n",
       "      <td>100700719</td>\n",
       "      <td>4400 W  WASHINGTON                   BL</td>\n",
       "      <td>{'type': 'Point', 'coordinates': [-118.3353, 3...</td>\n",
       "      <td>0400 0416 2000</td>\n",
       "      <td>502</td>\n",
       "      <td>MULTI-UNIT DWELLING (APARTMENT, DUPLEX, ETC)</td>\n",
       "      <td>0787</td>\n",
       "      <td>AO</td>\n",
       "      <td>Adult Other</td>\n",
       "      <td>2000</td>\n",
       "      <td>43</td>\n",
       "      <td>K</td>\n",
       "      <td>F</td>\n",
       "      <td>STRONG-ARM (HANDS, FIST, FEET OR BODILY FORCE)</td>\n",
       "      <td>400</td>\n",
       "    </tr>\n",
       "  </tbody>\n",
       "</table>\n",
       "</div>"
      ],
      "text/plain": [
       "  :@computed_region_2dna_qi2s :@computed_region_k96s_3jcv  \\\n",
       "0                          26                         626   \n",
       "1                          26                         635   \n",
       "2                          26                         633   \n",
       "3                          52                         612   \n",
       "4                          69                         651   \n",
       "\n",
       "  :@computed_region_kqwf_mjcx :@computed_region_qz3q_ghft  \\\n",
       "0                           7                       23667   \n",
       "1                           7                       23667   \n",
       "2                           6                       23679   \n",
       "3                          12                       23080   \n",
       "4                          12                       23080   \n",
       "\n",
       "  :@computed_region_tatf_ua23 :@computed_region_ur2y_g4cx area_id area_name  \\\n",
       "0                        1086                         NaN      07  Wilshire   \n",
       "1                         332                         NaN      07  Wilshire   \n",
       "2                         809                         NaN      07  Wilshire   \n",
       "3                        1229                         NaN      07  Wilshire   \n",
       "4                        1105                         NaN      07  Wilshire   \n",
       "\n",
       "  crm_cd crm_cd_1 crm_cd_2 crm_cd_3 crm_cd_4  \\\n",
       "0    930      930      NaN      NaN      NaN   \n",
       "1    626      626      NaN      NaN      NaN   \n",
       "2    930      930      998      NaN      NaN   \n",
       "3    626      626      NaN      NaN      NaN   \n",
       "4    236      236      NaN      NaN      NaN   \n",
       "\n",
       "                              crm_cd_desc                     cross_street  \\\n",
       "0  CRIMINAL THREATS - NO WEAPON DISPLAYED                              NaN   \n",
       "1       INTIMATE PARTNER - SIMPLE ASSAULT                              NaN   \n",
       "2  CRIMINAL THREATS - NO WEAPON DISPLAYED  3RD                          ST   \n",
       "3       INTIMATE PARTNER - SIMPLE ASSAULT                              NaN   \n",
       "4   INTIMATE PARTNER - AGGRAVATED ASSAULT                              NaN   \n",
       "\n",
       "                  date_occ                date_rptd      dr_no  \\\n",
       "0  2010-03-12T00:00:00.000  2010-03-12T00:00:00.000  100700660   \n",
       "1  2010-03-13T00:00:00.000  2010-03-13T00:00:00.000  100700661   \n",
       "2  2010-03-23T00:00:00.000  2010-03-24T00:00:00.000  100700688   \n",
       "3  2010-03-23T00:00:00.000  2010-03-24T00:00:00.000  100700689   \n",
       "4  2010-04-05T00:00:00.000  2010-04-05T00:00:00.000  100700719   \n",
       "\n",
       "                                  location  \\\n",
       "0  7600    BEVERLY                      BL   \n",
       "1   600 S  DETROIT                      ST   \n",
       "2          LA CIENEGA                   BL   \n",
       "3  1100    NORTON                       AV   \n",
       "4  4400 W  WASHINGTON                   BL   \n",
       "\n",
       "                                          location_1              mocodes  \\\n",
       "0  {'type': 'Point', 'coordinates': [-118.3555, 3...                 0421   \n",
       "1  {'type': 'Point', 'coordinates': [-118.3451, 3...            0400 2000   \n",
       "2  {'type': 'Point', 'coordinates': [-118.3765, 3...  0400 0416 0421 1402   \n",
       "3  {'type': 'Point', 'coordinates': [-118.3219, 3...       0400 0416 2000   \n",
       "4  {'type': 'Point', 'coordinates': [-118.3353, 3...       0400 0416 2000   \n",
       "\n",
       "  premis_cd                                   premis_desc rpt_dist_no status  \\\n",
       "0       109                               PARK/PLAYGROUND        0724     AA   \n",
       "1       502  MULTI-UNIT DWELLING (APARTMENT, DUPLEX, ETC)        0735     AA   \n",
       "2       108                                   PARKING LOT        0721     AA   \n",
       "3       502  MULTI-UNIT DWELLING (APARTMENT, DUPLEX, ETC)        0759     AA   \n",
       "4       502  MULTI-UNIT DWELLING (APARTMENT, DUPLEX, ETC)        0787     AO   \n",
       "\n",
       "    status_desc time_occ vict_age vict_descent vict_sex  \\\n",
       "0  Adult Arrest     1050       41            B        M   \n",
       "1  Adult Arrest     0600       27            O        F   \n",
       "2  Adult Arrest     2350       20            H        F   \n",
       "3  Adult Arrest     2330       35            O        M   \n",
       "4   Adult Other     2000       43            K        F   \n",
       "\n",
       "                                      weapon_desc weapon_used_cd  \n",
       "0                                   VERBAL THREAT            511  \n",
       "1  STRONG-ARM (HANDS, FIST, FEET OR BODILY FORCE)            400  \n",
       "2                                   VERBAL THREAT            511  \n",
       "3                     UNKNOWN WEAPON/OTHER WEAPON            500  \n",
       "4  STRONG-ARM (HANDS, FIST, FEET OR BODILY FORCE)            400  "
      ]
     },
     "execution_count": 11,
     "metadata": {},
     "output_type": "execute_result"
    }
   ],
   "source": [
    "results_df.head()"
   ]
  },
  {
   "cell_type": "code",
   "execution_count": null,
   "metadata": {},
   "outputs": [],
   "source": [
    "# with open('results_df.pickle', 'wb') as f:\n",
    "#     # Pickle the 'data' dictionary using the highest protocol available.\n",
    "#     pickle.dump(results_df, f, pickle.HIGHEST_PROTOCOL)"
   ]
  },
  {
   "cell_type": "code",
   "execution_count": null,
   "metadata": {},
   "outputs": [],
   "source": [
    "# with open('results_df.pickle', 'rb') as f:\n",
    "#     # The protocol version used is detected automatically, so we do not\n",
    "#     # have to specify it.\n",
    "#     results_df = pickle.load(f)"
   ]
  },
  {
   "cell_type": "code",
   "execution_count": null,
   "metadata": {},
   "outputs": [],
   "source": [
    "list(results_df)"
   ]
  },
  {
   "cell_type": "code",
   "execution_count": 11,
   "metadata": {},
   "outputs": [],
   "source": [
    "location = results_df['location_1'].head()"
   ]
  },
  {
   "cell_type": "code",
   "execution_count": 17,
   "metadata": {},
   "outputs": [
    {
     "data": {
      "text/plain": [
       "0    {'type': 'Point', 'coordinates': [-118.3555, 3...\n",
       "1    {'type': 'Point', 'coordinates': [-118.3451, 3...\n",
       "2    {'type': 'Point', 'coordinates': [-118.3765, 3...\n",
       "3    {'type': 'Point', 'coordinates': [-118.3219, 3...\n",
       "4    {'type': 'Point', 'coordinates': [-118.3353, 3...\n",
       "Name: location_1, dtype: object"
      ]
     },
     "execution_count": 17,
     "metadata": {},
     "output_type": "execute_result"
    }
   ],
   "source": [
    "location.head()"
   ]
  },
  {
   "cell_type": "code",
   "execution_count": 21,
   "metadata": {},
   "outputs": [
    {
     "data": {
      "text/plain": [
       "{'type': 'Point', 'coordinates': [-118.3555, 34.0761]}"
      ]
     },
     "execution_count": 21,
     "metadata": {},
     "output_type": "execute_result"
    }
   ],
   "source": [
    "location[0]"
   ]
  },
  {
   "cell_type": "code",
   "execution_count": 22,
   "metadata": {},
   "outputs": [
    {
     "data": {
      "text/plain": [
       "dict"
      ]
     },
     "execution_count": 22,
     "metadata": {},
     "output_type": "execute_result"
    }
   ],
   "source": [
    "type(location[0])"
   ]
  },
  {
   "cell_type": "code",
   "execution_count": 20,
   "metadata": {},
   "outputs": [
    {
     "data": {
      "text/plain": [
       "list"
      ]
     },
     "execution_count": 20,
     "metadata": {},
     "output_type": "execute_result"
    }
   ],
   "source": [
    "coordinates = location[0]['coordinates']\n",
    "type(coordinates)"
   ]
  },
  {
   "cell_type": "code",
   "execution_count": 23,
   "metadata": {},
   "outputs": [
    {
     "data": {
      "text/plain": [
       "[-118.3555, 34.0761]"
      ]
     },
     "execution_count": 23,
     "metadata": {},
     "output_type": "execute_result"
    }
   ],
   "source": [
    "coordinates"
   ]
  },
  {
   "cell_type": "code",
   "execution_count": 24,
   "metadata": {},
   "outputs": [
    {
     "data": {
      "text/plain": [
       "-118.3555"
      ]
     },
     "execution_count": 24,
     "metadata": {},
     "output_type": "execute_result"
    }
   ],
   "source": [
    "coordinates[0]"
   ]
  },
  {
   "cell_type": "code",
   "execution_count": 25,
   "metadata": {},
   "outputs": [
    {
     "data": {
      "text/plain": [
       "34.0761"
      ]
     },
     "execution_count": 25,
     "metadata": {},
     "output_type": "execute_result"
    }
   ],
   "source": [
    "coordinates[1]"
   ]
  },
  {
   "cell_type": "code",
   "execution_count": 59,
   "metadata": {},
   "outputs": [
    {
     "ename": "KeyboardInterrupt",
     "evalue": "",
     "output_type": "error",
     "traceback": [
      "\u001b[1;31m---------------------------------------------------------------------------\u001b[0m",
      "\u001b[1;31mKeyboardInterrupt\u001b[0m                         Traceback (most recent call last)",
      "\u001b[1;32m<ipython-input-59-855950a1f9d9>\u001b[0m in \u001b[0;36m<module>\u001b[1;34m\u001b[0m\n\u001b[0;32m      2\u001b[0m \u001b[1;32mfor\u001b[0m \u001b[0mx\u001b[0m \u001b[1;32min\u001b[0m \u001b[0mrange\u001b[0m\u001b[1;33m(\u001b[0m\u001b[0mrows\u001b[0m\u001b[1;33m)\u001b[0m\u001b[1;33m:\u001b[0m\u001b[1;33m\u001b[0m\u001b[1;33m\u001b[0m\u001b[0m\n\u001b[0;32m      3\u001b[0m     \u001b[0mresults_df\u001b[0m\u001b[1;33m[\u001b[0m\u001b[1;34m'lat'\u001b[0m\u001b[1;33m]\u001b[0m \u001b[1;33m=\u001b[0m \u001b[0mresults_df\u001b[0m\u001b[1;33m[\u001b[0m\u001b[1;34m'location_1'\u001b[0m\u001b[1;33m]\u001b[0m\u001b[1;33m[\u001b[0m\u001b[0mx\u001b[0m\u001b[1;33m]\u001b[0m\u001b[1;33m[\u001b[0m\u001b[1;34m'coordinates'\u001b[0m\u001b[1;33m]\u001b[0m\u001b[1;33m[\u001b[0m\u001b[1;36m0\u001b[0m\u001b[1;33m]\u001b[0m\u001b[1;33m\u001b[0m\u001b[1;33m\u001b[0m\u001b[0m\n\u001b[1;32m----> 4\u001b[1;33m     \u001b[0mresults_df\u001b[0m\u001b[1;33m[\u001b[0m\u001b[1;34m'lon'\u001b[0m\u001b[1;33m]\u001b[0m \u001b[1;33m=\u001b[0m \u001b[0mresults_df\u001b[0m\u001b[1;33m[\u001b[0m\u001b[1;34m'location_1'\u001b[0m\u001b[1;33m]\u001b[0m\u001b[1;33m[\u001b[0m\u001b[0mx\u001b[0m\u001b[1;33m]\u001b[0m\u001b[1;33m[\u001b[0m\u001b[1;34m'coordinates'\u001b[0m\u001b[1;33m]\u001b[0m\u001b[1;33m[\u001b[0m\u001b[1;36m1\u001b[0m\u001b[1;33m]\u001b[0m\u001b[1;33m\u001b[0m\u001b[1;33m\u001b[0m\u001b[0m\n\u001b[0m\u001b[0;32m      5\u001b[0m \u001b[0mresults_df\u001b[0m\u001b[1;33m.\u001b[0m\u001b[0mhead\u001b[0m\u001b[1;33m(\u001b[0m\u001b[1;33m)\u001b[0m\u001b[1;33m\u001b[0m\u001b[1;33m\u001b[0m\u001b[0m\n",
      "\u001b[1;32mC:\\ProgramData\\Anaconda3\\lib\\site-packages\\pandas\\core\\frame.py\u001b[0m in \u001b[0;36m__setitem__\u001b[1;34m(self, key, value)\u001b[0m\n\u001b[0;32m   3117\u001b[0m         \u001b[1;32melse\u001b[0m\u001b[1;33m:\u001b[0m\u001b[1;33m\u001b[0m\u001b[1;33m\u001b[0m\u001b[0m\n\u001b[0;32m   3118\u001b[0m             \u001b[1;31m# set column\u001b[0m\u001b[1;33m\u001b[0m\u001b[1;33m\u001b[0m\u001b[1;33m\u001b[0m\u001b[0m\n\u001b[1;32m-> 3119\u001b[1;33m             \u001b[0mself\u001b[0m\u001b[1;33m.\u001b[0m\u001b[0m_set_item\u001b[0m\u001b[1;33m(\u001b[0m\u001b[0mkey\u001b[0m\u001b[1;33m,\u001b[0m \u001b[0mvalue\u001b[0m\u001b[1;33m)\u001b[0m\u001b[1;33m\u001b[0m\u001b[1;33m\u001b[0m\u001b[0m\n\u001b[0m\u001b[0;32m   3120\u001b[0m \u001b[1;33m\u001b[0m\u001b[0m\n\u001b[0;32m   3121\u001b[0m     \u001b[1;32mdef\u001b[0m \u001b[0m_setitem_slice\u001b[0m\u001b[1;33m(\u001b[0m\u001b[0mself\u001b[0m\u001b[1;33m,\u001b[0m \u001b[0mkey\u001b[0m\u001b[1;33m,\u001b[0m \u001b[0mvalue\u001b[0m\u001b[1;33m)\u001b[0m\u001b[1;33m:\u001b[0m\u001b[1;33m\u001b[0m\u001b[1;33m\u001b[0m\u001b[0m\n",
      "\u001b[1;32mC:\\ProgramData\\Anaconda3\\lib\\site-packages\\pandas\\core\\frame.py\u001b[0m in \u001b[0;36m_set_item\u001b[1;34m(self, key, value)\u001b[0m\n\u001b[0;32m   3192\u001b[0m \u001b[1;33m\u001b[0m\u001b[0m\n\u001b[0;32m   3193\u001b[0m         \u001b[0mself\u001b[0m\u001b[1;33m.\u001b[0m\u001b[0m_ensure_valid_index\u001b[0m\u001b[1;33m(\u001b[0m\u001b[0mvalue\u001b[0m\u001b[1;33m)\u001b[0m\u001b[1;33m\u001b[0m\u001b[1;33m\u001b[0m\u001b[0m\n\u001b[1;32m-> 3194\u001b[1;33m         \u001b[0mvalue\u001b[0m \u001b[1;33m=\u001b[0m \u001b[0mself\u001b[0m\u001b[1;33m.\u001b[0m\u001b[0m_sanitize_column\u001b[0m\u001b[1;33m(\u001b[0m\u001b[0mkey\u001b[0m\u001b[1;33m,\u001b[0m \u001b[0mvalue\u001b[0m\u001b[1;33m)\u001b[0m\u001b[1;33m\u001b[0m\u001b[1;33m\u001b[0m\u001b[0m\n\u001b[0m\u001b[0;32m   3195\u001b[0m         \u001b[0mNDFrame\u001b[0m\u001b[1;33m.\u001b[0m\u001b[0m_set_item\u001b[0m\u001b[1;33m(\u001b[0m\u001b[0mself\u001b[0m\u001b[1;33m,\u001b[0m \u001b[0mkey\u001b[0m\u001b[1;33m,\u001b[0m \u001b[0mvalue\u001b[0m\u001b[1;33m)\u001b[0m\u001b[1;33m\u001b[0m\u001b[1;33m\u001b[0m\u001b[0m\n\u001b[0;32m   3196\u001b[0m \u001b[1;33m\u001b[0m\u001b[0m\n",
      "\u001b[1;32mC:\\ProgramData\\Anaconda3\\lib\\site-packages\\pandas\\core\\frame.py\u001b[0m in \u001b[0;36m_sanitize_column\u001b[1;34m(self, key, value, broadcast)\u001b[0m\n\u001b[0;32m   3408\u001b[0m         \u001b[1;32melse\u001b[0m\u001b[1;33m:\u001b[0m\u001b[1;33m\u001b[0m\u001b[1;33m\u001b[0m\u001b[0m\n\u001b[0;32m   3409\u001b[0m             \u001b[1;31m# upcast the scalar\u001b[0m\u001b[1;33m\u001b[0m\u001b[1;33m\u001b[0m\u001b[1;33m\u001b[0m\u001b[0m\n\u001b[1;32m-> 3410\u001b[1;33m             \u001b[0mvalue\u001b[0m \u001b[1;33m=\u001b[0m \u001b[0mcast_scalar_to_array\u001b[0m\u001b[1;33m(\u001b[0m\u001b[0mlen\u001b[0m\u001b[1;33m(\u001b[0m\u001b[0mself\u001b[0m\u001b[1;33m.\u001b[0m\u001b[0mindex\u001b[0m\u001b[1;33m)\u001b[0m\u001b[1;33m,\u001b[0m \u001b[0mvalue\u001b[0m\u001b[1;33m)\u001b[0m\u001b[1;33m\u001b[0m\u001b[1;33m\u001b[0m\u001b[0m\n\u001b[0m\u001b[0;32m   3411\u001b[0m             \u001b[0mvalue\u001b[0m \u001b[1;33m=\u001b[0m \u001b[0mmaybe_cast_to_datetime\u001b[0m\u001b[1;33m(\u001b[0m\u001b[0mvalue\u001b[0m\u001b[1;33m,\u001b[0m \u001b[0mvalue\u001b[0m\u001b[1;33m.\u001b[0m\u001b[0mdtype\u001b[0m\u001b[1;33m)\u001b[0m\u001b[1;33m\u001b[0m\u001b[1;33m\u001b[0m\u001b[0m\n\u001b[0;32m   3412\u001b[0m \u001b[1;33m\u001b[0m\u001b[0m\n",
      "\u001b[1;32mC:\\ProgramData\\Anaconda3\\lib\\site-packages\\pandas\\core\\dtypes\\cast.py\u001b[0m in \u001b[0;36mcast_scalar_to_array\u001b[1;34m(shape, value, dtype)\u001b[0m\n\u001b[0;32m   1165\u001b[0m \u001b[1;33m\u001b[0m\u001b[0m\n\u001b[0;32m   1166\u001b[0m     \u001b[0mvalues\u001b[0m \u001b[1;33m=\u001b[0m \u001b[0mnp\u001b[0m\u001b[1;33m.\u001b[0m\u001b[0mempty\u001b[0m\u001b[1;33m(\u001b[0m\u001b[0mshape\u001b[0m\u001b[1;33m,\u001b[0m \u001b[0mdtype\u001b[0m\u001b[1;33m=\u001b[0m\u001b[0mdtype\u001b[0m\u001b[1;33m)\u001b[0m\u001b[1;33m\u001b[0m\u001b[1;33m\u001b[0m\u001b[0m\n\u001b[1;32m-> 1167\u001b[1;33m     \u001b[0mvalues\u001b[0m\u001b[1;33m.\u001b[0m\u001b[0mfill\u001b[0m\u001b[1;33m(\u001b[0m\u001b[0mfill_value\u001b[0m\u001b[1;33m)\u001b[0m\u001b[1;33m\u001b[0m\u001b[1;33m\u001b[0m\u001b[0m\n\u001b[0m\u001b[0;32m   1168\u001b[0m \u001b[1;33m\u001b[0m\u001b[0m\n\u001b[0;32m   1169\u001b[0m     \u001b[1;32mreturn\u001b[0m \u001b[0mvalues\u001b[0m\u001b[1;33m\u001b[0m\u001b[1;33m\u001b[0m\u001b[0m\n",
      "\u001b[1;31mKeyboardInterrupt\u001b[0m: "
     ]
    }
   ],
   "source": [
    "rows=len(results_df)\n",
    "for x in range(rows):\n",
    "    results_df['lat'] = results_df['location_1'][x]['coordinates'][0]\n",
    "    results_df['lon'] = results_df['location_1'][x]['coordinates'][1]\n",
    "results_df.head()"
   ]
  },
  {
   "cell_type": "code",
   "execution_count": null,
   "metadata": {},
   "outputs": [],
   "source": []
  }
 ],
 "metadata": {
  "kernelspec": {
   "display_name": "Python 3",
   "language": "python",
   "name": "python3"
  },
  "language_info": {
   "codemirror_mode": {
    "name": "ipython",
    "version": 3
   },
   "file_extension": ".py",
   "mimetype": "text/x-python",
   "name": "python",
   "nbconvert_exporter": "python",
   "pygments_lexer": "ipython3",
   "version": "3.7.0"
  }
 },
 "nbformat": 4,
 "nbformat_minor": 2
}
